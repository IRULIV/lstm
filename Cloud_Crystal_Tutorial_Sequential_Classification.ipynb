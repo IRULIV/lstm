{
 "cells": [
  {
   "cell_type": "markdown",
   "metadata": {},
   "source": [
    "This jupyter notebook has been created by Bright Uchenna Oparaji. For any information about the scripts, please contact me via e-mail: u.oparaji@liv.ac.uk or uchenna.oparaji@yahoo.co.uk. Enjoy the tutorial!  "
   ]
  },
  {
   "cell_type": "markdown",
   "metadata": {},
   "source": [
    "# Introduction\n",
    "The aim of this tutorial is to build a model and forcast the expected queue time on the Epic cluster at Zenotech adopting supervised machine learning method. Given the fact that the training data provided to train the model is strongly time dependent (i.e. time series data), a Long Short Term Memory (LSTM) model has been adopted. LSTM are units of a recurrent neural network (RNN). A RNN composed of LSTM units is often called an LSTM network. A common LSTM unit is composed of a cell, an input gate, an output gate and a forget gate. The cell remembers values over arbitrary time intervals and the three gates regulate the flow of information into and out of the cell. LSTM networks are well-suited to perfrom classification, regression and make predictions based on time series data, since there can be lags of unknown duration between important events in a time series.   \n"
   ]
  },
  {
   "cell_type": "markdown",
   "metadata": {},
   "source": [
    "## Training Data Set \n",
    "First, to manipulate and visualise the data set provided by Zenotech, several python libraries are imported:"
   ]
  },
  {
   "cell_type": "code",
   "execution_count": 1,
   "metadata": {},
   "outputs": [],
   "source": [
    "import numpy as np\n",
    "import matplotlib.pyplot as plt\n",
    "import pandas as pd"
   ]
  },
  {
   "cell_type": "markdown",
   "metadata": {},
   "source": [
    "Now let's load the training data using the pandas library:"
   ]
  },
  {
   "cell_type": "code",
   "execution_count": 2,
   "metadata": {},
   "outputs": [],
   "source": [
    "dataset_train = pd.read_csv('TrainingData.csv')"
   ]
  },
  {
   "cell_type": "markdown",
   "metadata": {},
   "source": [
    "Now let's have a look at the data:"
   ]
  },
  {
   "cell_type": "code",
   "execution_count": 3,
   "metadata": {},
   "outputs": [
    {
     "data": {
      "text/html": [
       "<div>\n",
       "<style scoped>\n",
       "    .dataframe tbody tr th:only-of-type {\n",
       "        vertical-align: middle;\n",
       "    }\n",
       "\n",
       "    .dataframe tbody tr th {\n",
       "        vertical-align: top;\n",
       "    }\n",
       "\n",
       "    .dataframe thead th {\n",
       "        text-align: right;\n",
       "    }\n",
       "</style>\n",
       "<table border=\"1\" class=\"dataframe\">\n",
       "  <thead>\n",
       "    <tr style=\"text-align: right;\">\n",
       "      <th></th>\n",
       "      <th>Partition</th>\n",
       "      <th>QOS</th>\n",
       "      <th>ReqNodes</th>\n",
       "      <th>ReqCPUS</th>\n",
       "      <th>NNodes</th>\n",
       "      <th>Timelimit</th>\n",
       "      <th>Anon Account</th>\n",
       "      <th>Job Duration</th>\n",
       "      <th>Queue Time</th>\n",
       "    </tr>\n",
       "  </thead>\n",
       "  <tbody>\n",
       "    <tr>\n",
       "      <th>0</th>\n",
       "      <td>highmem</td>\n",
       "      <td>normal</td>\n",
       "      <td>20</td>\n",
       "      <td>320</td>\n",
       "      <td>20</td>\n",
       "      <td>240</td>\n",
       "      <td>46</td>\n",
       "      <td>240.47</td>\n",
       "      <td>2880.000</td>\n",
       "    </tr>\n",
       "    <tr>\n",
       "      <th>1</th>\n",
       "      <td>highmem</td>\n",
       "      <td>normal</td>\n",
       "      <td>20</td>\n",
       "      <td>320</td>\n",
       "      <td>20</td>\n",
       "      <td>240</td>\n",
       "      <td>46</td>\n",
       "      <td>240.00</td>\n",
       "      <td>2880.000</td>\n",
       "    </tr>\n",
       "    <tr>\n",
       "      <th>2</th>\n",
       "      <td>K80</td>\n",
       "      <td>normal</td>\n",
       "      <td>8</td>\n",
       "      <td>16</td>\n",
       "      <td>8</td>\n",
       "      <td>720</td>\n",
       "      <td>46</td>\n",
       "      <td>720.03</td>\n",
       "      <td>0.017</td>\n",
       "    </tr>\n",
       "    <tr>\n",
       "      <th>3</th>\n",
       "      <td>standard</td>\n",
       "      <td>normal</td>\n",
       "      <td>30</td>\n",
       "      <td>60</td>\n",
       "      <td>30</td>\n",
       "      <td>1440</td>\n",
       "      <td>46</td>\n",
       "      <td>17.13</td>\n",
       "      <td>0.017</td>\n",
       "    </tr>\n",
       "    <tr>\n",
       "      <th>4</th>\n",
       "      <td>standard</td>\n",
       "      <td>normal</td>\n",
       "      <td>1</td>\n",
       "      <td>24</td>\n",
       "      <td>1</td>\n",
       "      <td>10000000</td>\n",
       "      <td>46</td>\n",
       "      <td>1.37</td>\n",
       "      <td>0.000</td>\n",
       "    </tr>\n",
       "    <tr>\n",
       "      <th>5</th>\n",
       "      <td>small</td>\n",
       "      <td>normal</td>\n",
       "      <td>1</td>\n",
       "      <td>24</td>\n",
       "      <td>1</td>\n",
       "      <td>10000000</td>\n",
       "      <td>46</td>\n",
       "      <td>1.80</td>\n",
       "      <td>0.000</td>\n",
       "    </tr>\n",
       "    <tr>\n",
       "      <th>6</th>\n",
       "      <td>K80</td>\n",
       "      <td>normal</td>\n",
       "      <td>8</td>\n",
       "      <td>16</td>\n",
       "      <td>8</td>\n",
       "      <td>720</td>\n",
       "      <td>46</td>\n",
       "      <td>0.18</td>\n",
       "      <td>0.000</td>\n",
       "    </tr>\n",
       "    <tr>\n",
       "      <th>7</th>\n",
       "      <td>K80</td>\n",
       "      <td>normal</td>\n",
       "      <td>8</td>\n",
       "      <td>16</td>\n",
       "      <td>8</td>\n",
       "      <td>720</td>\n",
       "      <td>46</td>\n",
       "      <td>36.68</td>\n",
       "      <td>0.000</td>\n",
       "    </tr>\n",
       "    <tr>\n",
       "      <th>8</th>\n",
       "      <td>standard</td>\n",
       "      <td>normal</td>\n",
       "      <td>12</td>\n",
       "      <td>24</td>\n",
       "      <td>12</td>\n",
       "      <td>2880</td>\n",
       "      <td>46</td>\n",
       "      <td>39.45</td>\n",
       "      <td>0.000</td>\n",
       "    </tr>\n",
       "    <tr>\n",
       "      <th>9</th>\n",
       "      <td>standard</td>\n",
       "      <td>normal</td>\n",
       "      <td>30</td>\n",
       "      <td>60</td>\n",
       "      <td>30</td>\n",
       "      <td>1440</td>\n",
       "      <td>46</td>\n",
       "      <td>6.88</td>\n",
       "      <td>0.000</td>\n",
       "    </tr>\n",
       "    <tr>\n",
       "      <th>10</th>\n",
       "      <td>standard</td>\n",
       "      <td>normal</td>\n",
       "      <td>30</td>\n",
       "      <td>60</td>\n",
       "      <td>30</td>\n",
       "      <td>1440</td>\n",
       "      <td>46</td>\n",
       "      <td>423.13</td>\n",
       "      <td>0.017</td>\n",
       "    </tr>\n",
       "    <tr>\n",
       "      <th>11</th>\n",
       "      <td>small</td>\n",
       "      <td>normal</td>\n",
       "      <td>4</td>\n",
       "      <td>8</td>\n",
       "      <td>4</td>\n",
       "      <td>720</td>\n",
       "      <td>46</td>\n",
       "      <td>720.20</td>\n",
       "      <td>0.017</td>\n",
       "    </tr>\n",
       "    <tr>\n",
       "      <th>12</th>\n",
       "      <td>standard</td>\n",
       "      <td>normal</td>\n",
       "      <td>12</td>\n",
       "      <td>24</td>\n",
       "      <td>12</td>\n",
       "      <td>2880</td>\n",
       "      <td>46</td>\n",
       "      <td>210.65</td>\n",
       "      <td>0.017</td>\n",
       "    </tr>\n",
       "    <tr>\n",
       "      <th>13</th>\n",
       "      <td>standard</td>\n",
       "      <td>normal</td>\n",
       "      <td>1</td>\n",
       "      <td>1</td>\n",
       "      <td>1</td>\n",
       "      <td>10000000</td>\n",
       "      <td>26</td>\n",
       "      <td>0.05</td>\n",
       "      <td>0.000</td>\n",
       "    </tr>\n",
       "    <tr>\n",
       "      <th>14</th>\n",
       "      <td>standard</td>\n",
       "      <td>normal</td>\n",
       "      <td>12</td>\n",
       "      <td>24</td>\n",
       "      <td>12</td>\n",
       "      <td>2880</td>\n",
       "      <td>46</td>\n",
       "      <td>130.12</td>\n",
       "      <td>0.000</td>\n",
       "    </tr>\n",
       "    <tr>\n",
       "      <th>15</th>\n",
       "      <td>K80</td>\n",
       "      <td>normal</td>\n",
       "      <td>8</td>\n",
       "      <td>16</td>\n",
       "      <td>8</td>\n",
       "      <td>1440</td>\n",
       "      <td>46</td>\n",
       "      <td>1360.18</td>\n",
       "      <td>0.017</td>\n",
       "    </tr>\n",
       "    <tr>\n",
       "      <th>16</th>\n",
       "      <td>standard</td>\n",
       "      <td>normal</td>\n",
       "      <td>12</td>\n",
       "      <td>24</td>\n",
       "      <td>12</td>\n",
       "      <td>2880</td>\n",
       "      <td>46</td>\n",
       "      <td>28.70</td>\n",
       "      <td>0.000</td>\n",
       "    </tr>\n",
       "    <tr>\n",
       "      <th>17</th>\n",
       "      <td>standard</td>\n",
       "      <td>normal</td>\n",
       "      <td>12</td>\n",
       "      <td>24</td>\n",
       "      <td>12</td>\n",
       "      <td>2880</td>\n",
       "      <td>46</td>\n",
       "      <td>56.85</td>\n",
       "      <td>0.000</td>\n",
       "    </tr>\n",
       "    <tr>\n",
       "      <th>18</th>\n",
       "      <td>standard</td>\n",
       "      <td>normal</td>\n",
       "      <td>12</td>\n",
       "      <td>24</td>\n",
       "      <td>12</td>\n",
       "      <td>2880</td>\n",
       "      <td>46</td>\n",
       "      <td>20.07</td>\n",
       "      <td>0.000</td>\n",
       "    </tr>\n",
       "    <tr>\n",
       "      <th>19</th>\n",
       "      <td>standard</td>\n",
       "      <td>normal</td>\n",
       "      <td>12</td>\n",
       "      <td>24</td>\n",
       "      <td>12</td>\n",
       "      <td>2880</td>\n",
       "      <td>46</td>\n",
       "      <td>32.93</td>\n",
       "      <td>0.000</td>\n",
       "    </tr>\n",
       "    <tr>\n",
       "      <th>20</th>\n",
       "      <td>K80</td>\n",
       "      <td>normal</td>\n",
       "      <td>8</td>\n",
       "      <td>16</td>\n",
       "      <td>8</td>\n",
       "      <td>1440</td>\n",
       "      <td>46</td>\n",
       "      <td>13.53</td>\n",
       "      <td>0.000</td>\n",
       "    </tr>\n",
       "    <tr>\n",
       "      <th>21</th>\n",
       "      <td>standard</td>\n",
       "      <td>normal</td>\n",
       "      <td>8</td>\n",
       "      <td>16</td>\n",
       "      <td>8</td>\n",
       "      <td>1440</td>\n",
       "      <td>46</td>\n",
       "      <td>0.05</td>\n",
       "      <td>0.017</td>\n",
       "    </tr>\n",
       "    <tr>\n",
       "      <th>22</th>\n",
       "      <td>K80</td>\n",
       "      <td>normal</td>\n",
       "      <td>8</td>\n",
       "      <td>16</td>\n",
       "      <td>8</td>\n",
       "      <td>1440</td>\n",
       "      <td>46</td>\n",
       "      <td>11.52</td>\n",
       "      <td>0.000</td>\n",
       "    </tr>\n",
       "    <tr>\n",
       "      <th>23</th>\n",
       "      <td>small</td>\n",
       "      <td>normal</td>\n",
       "      <td>4</td>\n",
       "      <td>8</td>\n",
       "      <td>4</td>\n",
       "      <td>1440</td>\n",
       "      <td>46</td>\n",
       "      <td>1438.47</td>\n",
       "      <td>0.000</td>\n",
       "    </tr>\n",
       "    <tr>\n",
       "      <th>24</th>\n",
       "      <td>K80</td>\n",
       "      <td>normal</td>\n",
       "      <td>8</td>\n",
       "      <td>16</td>\n",
       "      <td>8</td>\n",
       "      <td>1440</td>\n",
       "      <td>46</td>\n",
       "      <td>0.48</td>\n",
       "      <td>0.000</td>\n",
       "    </tr>\n",
       "    <tr>\n",
       "      <th>25</th>\n",
       "      <td>K80</td>\n",
       "      <td>normal</td>\n",
       "      <td>8</td>\n",
       "      <td>16</td>\n",
       "      <td>8</td>\n",
       "      <td>1440</td>\n",
       "      <td>46</td>\n",
       "      <td>1440.15</td>\n",
       "      <td>0.000</td>\n",
       "    </tr>\n",
       "    <tr>\n",
       "      <th>26</th>\n",
       "      <td>small</td>\n",
       "      <td>normal</td>\n",
       "      <td>32</td>\n",
       "      <td>64</td>\n",
       "      <td>32</td>\n",
       "      <td>7200</td>\n",
       "      <td>46</td>\n",
       "      <td>0.00</td>\n",
       "      <td>15.450</td>\n",
       "    </tr>\n",
       "    <tr>\n",
       "      <th>27</th>\n",
       "      <td>standard</td>\n",
       "      <td>normal</td>\n",
       "      <td>32</td>\n",
       "      <td>64</td>\n",
       "      <td>32</td>\n",
       "      <td>7200</td>\n",
       "      <td>46</td>\n",
       "      <td>1.78</td>\n",
       "      <td>0.000</td>\n",
       "    </tr>\n",
       "    <tr>\n",
       "      <th>28</th>\n",
       "      <td>standard</td>\n",
       "      <td>normal</td>\n",
       "      <td>32</td>\n",
       "      <td>64</td>\n",
       "      <td>32</td>\n",
       "      <td>7200</td>\n",
       "      <td>46</td>\n",
       "      <td>9.47</td>\n",
       "      <td>0.000</td>\n",
       "    </tr>\n",
       "    <tr>\n",
       "      <th>29</th>\n",
       "      <td>highmem</td>\n",
       "      <td>normal</td>\n",
       "      <td>3</td>\n",
       "      <td>36</td>\n",
       "      <td>3</td>\n",
       "      <td>10000000</td>\n",
       "      <td>46</td>\n",
       "      <td>0.12</td>\n",
       "      <td>0.000</td>\n",
       "    </tr>\n",
       "    <tr>\n",
       "      <th>...</th>\n",
       "      <td>...</td>\n",
       "      <td>...</td>\n",
       "      <td>...</td>\n",
       "      <td>...</td>\n",
       "      <td>...</td>\n",
       "      <td>...</td>\n",
       "      <td>...</td>\n",
       "      <td>...</td>\n",
       "      <td>...</td>\n",
       "    </tr>\n",
       "    <tr>\n",
       "      <th>211089</th>\n",
       "      <td>standard</td>\n",
       "      <td>ondemand</td>\n",
       "      <td>5</td>\n",
       "      <td>10</td>\n",
       "      <td>5</td>\n",
       "      <td>180</td>\n",
       "      <td>35</td>\n",
       "      <td>8.52</td>\n",
       "      <td>23.067</td>\n",
       "    </tr>\n",
       "    <tr>\n",
       "      <th>211090</th>\n",
       "      <td>standard</td>\n",
       "      <td>ondemand</td>\n",
       "      <td>5</td>\n",
       "      <td>10</td>\n",
       "      <td>5</td>\n",
       "      <td>180</td>\n",
       "      <td>35</td>\n",
       "      <td>8.50</td>\n",
       "      <td>27.017</td>\n",
       "    </tr>\n",
       "    <tr>\n",
       "      <th>211091</th>\n",
       "      <td>standard</td>\n",
       "      <td>ondemand</td>\n",
       "      <td>5</td>\n",
       "      <td>10</td>\n",
       "      <td>5</td>\n",
       "      <td>180</td>\n",
       "      <td>35</td>\n",
       "      <td>2.10</td>\n",
       "      <td>29.467</td>\n",
       "    </tr>\n",
       "    <tr>\n",
       "      <th>211092</th>\n",
       "      <td>standard</td>\n",
       "      <td>ondemand</td>\n",
       "      <td>5</td>\n",
       "      <td>10</td>\n",
       "      <td>5</td>\n",
       "      <td>180</td>\n",
       "      <td>35</td>\n",
       "      <td>1.73</td>\n",
       "      <td>31.533</td>\n",
       "    </tr>\n",
       "    <tr>\n",
       "      <th>211093</th>\n",
       "      <td>standard</td>\n",
       "      <td>ondemand</td>\n",
       "      <td>5</td>\n",
       "      <td>10</td>\n",
       "      <td>5</td>\n",
       "      <td>180</td>\n",
       "      <td>35</td>\n",
       "      <td>1.95</td>\n",
       "      <td>31.467</td>\n",
       "    </tr>\n",
       "    <tr>\n",
       "      <th>211094</th>\n",
       "      <td>standard</td>\n",
       "      <td>ondemand</td>\n",
       "      <td>5</td>\n",
       "      <td>10</td>\n",
       "      <td>5</td>\n",
       "      <td>180</td>\n",
       "      <td>35</td>\n",
       "      <td>1.67</td>\n",
       "      <td>33.300</td>\n",
       "    </tr>\n",
       "    <tr>\n",
       "      <th>211095</th>\n",
       "      <td>standard</td>\n",
       "      <td>ondemand</td>\n",
       "      <td>1</td>\n",
       "      <td>1</td>\n",
       "      <td>1</td>\n",
       "      <td>60</td>\n",
       "      <td>35</td>\n",
       "      <td>1.72</td>\n",
       "      <td>35.283</td>\n",
       "    </tr>\n",
       "    <tr>\n",
       "      <th>211096</th>\n",
       "      <td>standard</td>\n",
       "      <td>low</td>\n",
       "      <td>1</td>\n",
       "      <td>120</td>\n",
       "      <td>1</td>\n",
       "      <td>2925</td>\n",
       "      <td>44</td>\n",
       "      <td>0.00</td>\n",
       "      <td>0.200</td>\n",
       "    </tr>\n",
       "    <tr>\n",
       "      <th>211097</th>\n",
       "      <td>small</td>\n",
       "      <td>low</td>\n",
       "      <td>1</td>\n",
       "      <td>120</td>\n",
       "      <td>5</td>\n",
       "      <td>2925</td>\n",
       "      <td>44</td>\n",
       "      <td>0.93</td>\n",
       "      <td>0.000</td>\n",
       "    </tr>\n",
       "    <tr>\n",
       "      <th>211098</th>\n",
       "      <td>small</td>\n",
       "      <td>low</td>\n",
       "      <td>2</td>\n",
       "      <td>48</td>\n",
       "      <td>2</td>\n",
       "      <td>240</td>\n",
       "      <td>44</td>\n",
       "      <td>39.32</td>\n",
       "      <td>0.000</td>\n",
       "    </tr>\n",
       "    <tr>\n",
       "      <th>211099</th>\n",
       "      <td>small</td>\n",
       "      <td>low</td>\n",
       "      <td>2</td>\n",
       "      <td>48</td>\n",
       "      <td>2</td>\n",
       "      <td>240</td>\n",
       "      <td>44</td>\n",
       "      <td>48.70</td>\n",
       "      <td>0.000</td>\n",
       "    </tr>\n",
       "    <tr>\n",
       "      <th>211100</th>\n",
       "      <td>small</td>\n",
       "      <td>low</td>\n",
       "      <td>2</td>\n",
       "      <td>48</td>\n",
       "      <td>2</td>\n",
       "      <td>240</td>\n",
       "      <td>44</td>\n",
       "      <td>54.97</td>\n",
       "      <td>0.017</td>\n",
       "    </tr>\n",
       "    <tr>\n",
       "      <th>211101</th>\n",
       "      <td>standard</td>\n",
       "      <td>rrcorecfd</td>\n",
       "      <td>1</td>\n",
       "      <td>24</td>\n",
       "      <td>1</td>\n",
       "      <td>525600</td>\n",
       "      <td>9</td>\n",
       "      <td>3.38</td>\n",
       "      <td>22.267</td>\n",
       "    </tr>\n",
       "    <tr>\n",
       "      <th>211102</th>\n",
       "      <td>small</td>\n",
       "      <td>rr3dgmo</td>\n",
       "      <td>1</td>\n",
       "      <td>24</td>\n",
       "      <td>1</td>\n",
       "      <td>10000000</td>\n",
       "      <td>44</td>\n",
       "      <td>0.00</td>\n",
       "      <td>2.767</td>\n",
       "    </tr>\n",
       "    <tr>\n",
       "      <th>211103</th>\n",
       "      <td>small</td>\n",
       "      <td>low</td>\n",
       "      <td>1</td>\n",
       "      <td>120</td>\n",
       "      <td>5</td>\n",
       "      <td>2925</td>\n",
       "      <td>44</td>\n",
       "      <td>1.82</td>\n",
       "      <td>0.000</td>\n",
       "    </tr>\n",
       "    <tr>\n",
       "      <th>211104</th>\n",
       "      <td>small</td>\n",
       "      <td>low</td>\n",
       "      <td>1</td>\n",
       "      <td>120</td>\n",
       "      <td>5</td>\n",
       "      <td>2925</td>\n",
       "      <td>44</td>\n",
       "      <td>0.60</td>\n",
       "      <td>0.033</td>\n",
       "    </tr>\n",
       "    <tr>\n",
       "      <th>211105</th>\n",
       "      <td>small</td>\n",
       "      <td>low</td>\n",
       "      <td>1</td>\n",
       "      <td>120</td>\n",
       "      <td>5</td>\n",
       "      <td>2925</td>\n",
       "      <td>44</td>\n",
       "      <td>0.95</td>\n",
       "      <td>0.000</td>\n",
       "    </tr>\n",
       "    <tr>\n",
       "      <th>211106</th>\n",
       "      <td>standard</td>\n",
       "      <td>rrcorecfd</td>\n",
       "      <td>4</td>\n",
       "      <td>96</td>\n",
       "      <td>4</td>\n",
       "      <td>720</td>\n",
       "      <td>9</td>\n",
       "      <td>0.00</td>\n",
       "      <td>0.300</td>\n",
       "    </tr>\n",
       "    <tr>\n",
       "      <th>211107</th>\n",
       "      <td>small</td>\n",
       "      <td>low</td>\n",
       "      <td>1</td>\n",
       "      <td>120</td>\n",
       "      <td>5</td>\n",
       "      <td>2925</td>\n",
       "      <td>44</td>\n",
       "      <td>3.42</td>\n",
       "      <td>0.000</td>\n",
       "    </tr>\n",
       "    <tr>\n",
       "      <th>211108</th>\n",
       "      <td>small</td>\n",
       "      <td>low</td>\n",
       "      <td>1</td>\n",
       "      <td>120</td>\n",
       "      <td>5</td>\n",
       "      <td>2925</td>\n",
       "      <td>44</td>\n",
       "      <td>1.45</td>\n",
       "      <td>0.000</td>\n",
       "    </tr>\n",
       "    <tr>\n",
       "      <th>211109</th>\n",
       "      <td>small</td>\n",
       "      <td>low</td>\n",
       "      <td>1</td>\n",
       "      <td>24</td>\n",
       "      <td>1</td>\n",
       "      <td>2925</td>\n",
       "      <td>44</td>\n",
       "      <td>1.05</td>\n",
       "      <td>0.017</td>\n",
       "    </tr>\n",
       "    <tr>\n",
       "      <th>211110</th>\n",
       "      <td>standard</td>\n",
       "      <td>rrcorecfd</td>\n",
       "      <td>1</td>\n",
       "      <td>120</td>\n",
       "      <td>5</td>\n",
       "      <td>18000</td>\n",
       "      <td>9</td>\n",
       "      <td>0.22</td>\n",
       "      <td>0.017</td>\n",
       "    </tr>\n",
       "    <tr>\n",
       "      <th>211111</th>\n",
       "      <td>standard</td>\n",
       "      <td>rrcorecfd</td>\n",
       "      <td>1</td>\n",
       "      <td>120</td>\n",
       "      <td>5</td>\n",
       "      <td>18000</td>\n",
       "      <td>9</td>\n",
       "      <td>0.75</td>\n",
       "      <td>0.017</td>\n",
       "    </tr>\n",
       "    <tr>\n",
       "      <th>211112</th>\n",
       "      <td>small</td>\n",
       "      <td>low</td>\n",
       "      <td>1</td>\n",
       "      <td>24</td>\n",
       "      <td>1</td>\n",
       "      <td>2925</td>\n",
       "      <td>44</td>\n",
       "      <td>0.67</td>\n",
       "      <td>0.000</td>\n",
       "    </tr>\n",
       "    <tr>\n",
       "      <th>211113</th>\n",
       "      <td>small</td>\n",
       "      <td>low</td>\n",
       "      <td>1</td>\n",
       "      <td>24</td>\n",
       "      <td>1</td>\n",
       "      <td>2925</td>\n",
       "      <td>44</td>\n",
       "      <td>1.62</td>\n",
       "      <td>0.000</td>\n",
       "    </tr>\n",
       "    <tr>\n",
       "      <th>211114</th>\n",
       "      <td>small</td>\n",
       "      <td>low</td>\n",
       "      <td>1</td>\n",
       "      <td>24</td>\n",
       "      <td>1</td>\n",
       "      <td>2925</td>\n",
       "      <td>44</td>\n",
       "      <td>1.35</td>\n",
       "      <td>0.000</td>\n",
       "    </tr>\n",
       "    <tr>\n",
       "      <th>211115</th>\n",
       "      <td>small</td>\n",
       "      <td>low</td>\n",
       "      <td>1</td>\n",
       "      <td>24</td>\n",
       "      <td>1</td>\n",
       "      <td>2925</td>\n",
       "      <td>44</td>\n",
       "      <td>3.15</td>\n",
       "      <td>0.000</td>\n",
       "    </tr>\n",
       "    <tr>\n",
       "      <th>211116</th>\n",
       "      <td>standard</td>\n",
       "      <td>ondemand</td>\n",
       "      <td>10</td>\n",
       "      <td>240</td>\n",
       "      <td>10</td>\n",
       "      <td>30</td>\n",
       "      <td>8</td>\n",
       "      <td>3.50</td>\n",
       "      <td>0.000</td>\n",
       "    </tr>\n",
       "    <tr>\n",
       "      <th>211117</th>\n",
       "      <td>small</td>\n",
       "      <td>low</td>\n",
       "      <td>1</td>\n",
       "      <td>24</td>\n",
       "      <td>1</td>\n",
       "      <td>2925</td>\n",
       "      <td>44</td>\n",
       "      <td>0.17</td>\n",
       "      <td>0.000</td>\n",
       "    </tr>\n",
       "    <tr>\n",
       "      <th>211118</th>\n",
       "      <td>small</td>\n",
       "      <td>low</td>\n",
       "      <td>1</td>\n",
       "      <td>120</td>\n",
       "      <td>5</td>\n",
       "      <td>2925</td>\n",
       "      <td>44</td>\n",
       "      <td>8.97</td>\n",
       "      <td>0.000</td>\n",
       "    </tr>\n",
       "  </tbody>\n",
       "</table>\n",
       "<p>211119 rows × 9 columns</p>\n",
       "</div>"
      ],
      "text/plain": [
       "       Partition        QOS  ReqNodes  ReqCPUS  NNodes  Timelimit  \\\n",
       "0        highmem     normal        20      320      20        240   \n",
       "1        highmem     normal        20      320      20        240   \n",
       "2            K80     normal         8       16       8        720   \n",
       "3       standard     normal        30       60      30       1440   \n",
       "4       standard     normal         1       24       1   10000000   \n",
       "5          small     normal         1       24       1   10000000   \n",
       "6            K80     normal         8       16       8        720   \n",
       "7            K80     normal         8       16       8        720   \n",
       "8       standard     normal        12       24      12       2880   \n",
       "9       standard     normal        30       60      30       1440   \n",
       "10      standard     normal        30       60      30       1440   \n",
       "11         small     normal         4        8       4        720   \n",
       "12      standard     normal        12       24      12       2880   \n",
       "13      standard     normal         1        1       1   10000000   \n",
       "14      standard     normal        12       24      12       2880   \n",
       "15           K80     normal         8       16       8       1440   \n",
       "16      standard     normal        12       24      12       2880   \n",
       "17      standard     normal        12       24      12       2880   \n",
       "18      standard     normal        12       24      12       2880   \n",
       "19      standard     normal        12       24      12       2880   \n",
       "20           K80     normal         8       16       8       1440   \n",
       "21      standard     normal         8       16       8       1440   \n",
       "22           K80     normal         8       16       8       1440   \n",
       "23         small     normal         4        8       4       1440   \n",
       "24           K80     normal         8       16       8       1440   \n",
       "25           K80     normal         8       16       8       1440   \n",
       "26         small     normal        32       64      32       7200   \n",
       "27      standard     normal        32       64      32       7200   \n",
       "28      standard     normal        32       64      32       7200   \n",
       "29       highmem     normal         3       36       3   10000000   \n",
       "...          ...        ...       ...      ...     ...        ...   \n",
       "211089  standard   ondemand         5       10       5        180   \n",
       "211090  standard   ondemand         5       10       5        180   \n",
       "211091  standard   ondemand         5       10       5        180   \n",
       "211092  standard   ondemand         5       10       5        180   \n",
       "211093  standard   ondemand         5       10       5        180   \n",
       "211094  standard   ondemand         5       10       5        180   \n",
       "211095  standard   ondemand         1        1       1         60   \n",
       "211096  standard        low         1      120       1       2925   \n",
       "211097     small        low         1      120       5       2925   \n",
       "211098     small        low         2       48       2        240   \n",
       "211099     small        low         2       48       2        240   \n",
       "211100     small        low         2       48       2        240   \n",
       "211101  standard  rrcorecfd         1       24       1     525600   \n",
       "211102     small    rr3dgmo         1       24       1   10000000   \n",
       "211103     small        low         1      120       5       2925   \n",
       "211104     small        low         1      120       5       2925   \n",
       "211105     small        low         1      120       5       2925   \n",
       "211106  standard  rrcorecfd         4       96       4        720   \n",
       "211107     small        low         1      120       5       2925   \n",
       "211108     small        low         1      120       5       2925   \n",
       "211109     small        low         1       24       1       2925   \n",
       "211110  standard  rrcorecfd         1      120       5      18000   \n",
       "211111  standard  rrcorecfd         1      120       5      18000   \n",
       "211112     small        low         1       24       1       2925   \n",
       "211113     small        low         1       24       1       2925   \n",
       "211114     small        low         1       24       1       2925   \n",
       "211115     small        low         1       24       1       2925   \n",
       "211116  standard   ondemand        10      240      10         30   \n",
       "211117     small        low         1       24       1       2925   \n",
       "211118     small        low         1      120       5       2925   \n",
       "\n",
       "        Anon Account  Job Duration  Queue Time  \n",
       "0                 46        240.47    2880.000  \n",
       "1                 46        240.00    2880.000  \n",
       "2                 46        720.03       0.017  \n",
       "3                 46         17.13       0.017  \n",
       "4                 46          1.37       0.000  \n",
       "5                 46          1.80       0.000  \n",
       "6                 46          0.18       0.000  \n",
       "7                 46         36.68       0.000  \n",
       "8                 46         39.45       0.000  \n",
       "9                 46          6.88       0.000  \n",
       "10                46        423.13       0.017  \n",
       "11                46        720.20       0.017  \n",
       "12                46        210.65       0.017  \n",
       "13                26          0.05       0.000  \n",
       "14                46        130.12       0.000  \n",
       "15                46       1360.18       0.017  \n",
       "16                46         28.70       0.000  \n",
       "17                46         56.85       0.000  \n",
       "18                46         20.07       0.000  \n",
       "19                46         32.93       0.000  \n",
       "20                46         13.53       0.000  \n",
       "21                46          0.05       0.017  \n",
       "22                46         11.52       0.000  \n",
       "23                46       1438.47       0.000  \n",
       "24                46          0.48       0.000  \n",
       "25                46       1440.15       0.000  \n",
       "26                46          0.00      15.450  \n",
       "27                46          1.78       0.000  \n",
       "28                46          9.47       0.000  \n",
       "29                46          0.12       0.000  \n",
       "...              ...           ...         ...  \n",
       "211089            35          8.52      23.067  \n",
       "211090            35          8.50      27.017  \n",
       "211091            35          2.10      29.467  \n",
       "211092            35          1.73      31.533  \n",
       "211093            35          1.95      31.467  \n",
       "211094            35          1.67      33.300  \n",
       "211095            35          1.72      35.283  \n",
       "211096            44          0.00       0.200  \n",
       "211097            44          0.93       0.000  \n",
       "211098            44         39.32       0.000  \n",
       "211099            44         48.70       0.000  \n",
       "211100            44         54.97       0.017  \n",
       "211101             9          3.38      22.267  \n",
       "211102            44          0.00       2.767  \n",
       "211103            44          1.82       0.000  \n",
       "211104            44          0.60       0.033  \n",
       "211105            44          0.95       0.000  \n",
       "211106             9          0.00       0.300  \n",
       "211107            44          3.42       0.000  \n",
       "211108            44          1.45       0.000  \n",
       "211109            44          1.05       0.017  \n",
       "211110             9          0.22       0.017  \n",
       "211111             9          0.75       0.017  \n",
       "211112            44          0.67       0.000  \n",
       "211113            44          1.62       0.000  \n",
       "211114            44          1.35       0.000  \n",
       "211115            44          3.15       0.000  \n",
       "211116             8          3.50       0.000  \n",
       "211117            44          0.17       0.000  \n",
       "211118            44          8.97       0.000  \n",
       "\n",
       "[211119 rows x 9 columns]"
      ]
     },
     "execution_count": 3,
     "metadata": {},
     "output_type": "execute_result"
    }
   ],
   "source": [
    "dataset_train"
   ]
  },
  {
   "cell_type": "markdown",
   "metadata": {},
   "source": [
    "We can see some categorical features in the data set (i.e. 'Partition' & 'QOS'). From previous analyses, I realized that these categorical features do not improve the model perfromance but worsten it's perfromance, so I have decided to ommit them. Hence, the new training data set is:  "
   ]
  },
  {
   "cell_type": "code",
   "execution_count": 4,
   "metadata": {},
   "outputs": [],
   "source": [
    "training_set = dataset_train.iloc[:, 2:9].values"
   ]
  },
  {
   "cell_type": "markdown",
   "metadata": {},
   "source": [
    "I have also decided to remove Anon Account feature because it dosen't improve the model:"
   ]
  },
  {
   "cell_type": "code",
   "execution_count": 5,
   "metadata": {},
   "outputs": [],
   "source": [
    "training_set=np.delete(training_set, 4, 1)"
   ]
  },
  {
   "cell_type": "markdown",
   "metadata": {},
   "source": [
    "Now, we create a new variable to store the new training data:"
   ]
  },
  {
   "cell_type": "code",
   "execution_count": 6,
   "metadata": {},
   "outputs": [],
   "source": [
    "training_set_new = training_set"
   ]
  },
  {
   "cell_type": "markdown",
   "metadata": {},
   "source": [
    "Here, rather than solve a regression problem of mapping the features to the queue time, we try to classify the data by grouping the queue time into various classes (i.e. < 5 min, < 30 min, < 60 min, < 120 min, < 240 min, < 600 min, > 600 min), then, train the model to classify the data:"
   ]
  },
  {
   "cell_type": "code",
   "execution_count": 7,
   "metadata": {},
   "outputs": [],
   "source": [
    "for i in range(len(training_set_new)):\n",
    "    if training_set[i, 5] < 5:\n",
    "        training_set_new[i, 5] = 1 # first class\n",
    "    elif training_set[i, 5] < 30:\n",
    "        training_set_new[i, 5] = 2 # second class\n",
    "    elif training_set[i, 5] < 60:\n",
    "        training_set_new[i, 5] = 3 # third class\n",
    "    elif training_set[i, 5] < 120:\n",
    "        training_set_new[i, 5] = 4 # fourth class\n",
    "    elif training_set[i, 5] < 240:\n",
    "        training_set_new[i, 5] = 5 # fifth class\n",
    "    elif training_set[i, 5] < 600:\n",
    "        training_set_new[i, 5] = 6 # sixth class\n",
    "    elif training_set[i, 5] > 600:\n",
    "        training_set_new[i, 5] = 7 # seventh class"
   ]
  },
  {
   "cell_type": "markdown",
   "metadata": {},
   "source": [
    "## Feature Scaling\n",
    "Feature scaling is a method used to standardize the range of independent variables or features of data. Since the range of values of raw data varies widely, in some machine learning algorithms, objective functions will not work properly without normalization. For example, the majority of classifiers calculate the distance between two points by the Euclidean distance. If one of the features has a broad range of values, the distance will be governed by this particular feature. Therefore, the range of all features should be normalized so that each feature contributes approximately proportionately to the final distance. Now let's rescale the data to fall in the range of [0, 1]. This will enable the model learn better. Note that the labels to predict have been left in their originnal format. The other features have been rescaled:"
   ]
  },
  {
   "cell_type": "code",
   "execution_count": 8,
   "metadata": {},
   "outputs": [],
   "source": [
    "from sklearn.preprocessing import MinMaxScaler\n",
    "sc = MinMaxScaler(feature_range = (0, 1))\n",
    "training_set_scaled = sc.fit_transform(training_set_new[:,0:5])"
   ]
  },
  {
   "cell_type": "markdown",
   "metadata": {},
   "source": [
    "Now, we apply one-hot encoding scheme to the queue time in order to transform the queue time classes from 1-7 to 0-6:"
   ]
  },
  {
   "cell_type": "code",
   "execution_count": 9,
   "metadata": {},
   "outputs": [],
   "source": [
    "from sklearn.preprocessing import LabelEncoder\n",
    "training_set_new_class = training_set_new[:,5]\n",
    "training_set_new_class_reshape = training_set_new_class.reshape(training_set_new_class.size, 1)\n",
    "training_set_scaled = np.append(training_set_scaled, training_set_new_class_reshape, axis=1)\n",
    "labelencoder_Re_ID = LabelEncoder()\n",
    "training_set_scaled[:, 5] = labelencoder_Re_ID.fit_transform(training_set_scaled[:, 5])"
   ]
  },
  {
   "cell_type": "markdown",
   "metadata": {},
   "source": [
    "Here, we split the training data into two parts (i.e. 80% and 20%). The first part (80%) contains the data which will be used to train the model while the second part (20%) will be used to test the model's perfromance in terms of predicting future queue times:  "
   ]
  },
  {
   "cell_type": "code",
   "execution_count": 10,
   "metadata": {},
   "outputs": [],
   "source": [
    "training_size = int(np.ceil(training_set_scaled[:,0].size*0.8))\n",
    "lag = 2 # number of realizations in the past the model looks back in order to predict the future\n",
    "training_set_final = training_set_scaled[0:training_size,:]\n",
    "test_set_final = training_set_scaled[training_size+1-lag:-1,:]"
   ]
  },
  {
   "cell_type": "markdown",
   "metadata": {},
   "source": [
    "Now let's reshape the training and test data so they can be accepted as inputs in keras."
   ]
  },
  {
   "cell_type": "code",
   "execution_count": 11,
   "metadata": {},
   "outputs": [],
   "source": [
    "X_train = []\n",
    "y_train = []\n",
    "for i in range(lag, training_set_final[:,0].size):\n",
    "    X_train.append(training_set_final[i-lag:i, 0:6])\n",
    "    y_train.append(training_set_final[i, 5])\n",
    "X_train, y_train = np.array(X_train), np.array(y_train)\n",
    "# Reshaping training set\n",
    "X_train = np.reshape(X_train, (X_train.shape[0], X_train.shape[1], 6))"
   ]
  },
  {
   "cell_type": "code",
   "execution_count": 12,
   "metadata": {},
   "outputs": [],
   "source": [
    "X_test = []\n",
    "y_test = []\n",
    "for j in range(lag, test_set_final[:,0].size):\n",
    "    X_test.append(test_set_final[j-lag:j, 0:6])\n",
    "    y_test.append(test_set_final[j, 5])\n",
    "X_test, y_test = np.array(X_test), np.array(y_test)\n",
    "# Reshaping test set\n",
    "X_test = np.reshape(X_test, (X_test.shape[0], X_test.shape[1], 6))"
   ]
  },
  {
   "cell_type": "markdown",
   "metadata": {},
   "source": [
    "Now we have the training and test data ready let's build a simple LSTM model in keras."
   ]
  },
  {
   "cell_type": "code",
   "execution_count": 13,
   "metadata": {},
   "outputs": [
    {
     "name": "stderr",
     "output_type": "stream",
     "text": [
      "C:\\Users\\BRIGHT\\Anaconda3\\lib\\site-packages\\h5py\\__init__.py:36: FutureWarning: Conversion of the second argument of issubdtype from `float` to `np.floating` is deprecated. In future, it will be treated as `np.float64 == np.dtype(float).type`.\n",
      "  from ._conv import register_converters as _register_converters\n",
      "Using TensorFlow backend.\n"
     ]
    }
   ],
   "source": [
    "# Importing the Keras libraries and packages\n",
    "from keras.models import Sequential\n",
    "from keras.layers import Dense\n",
    "from keras.layers import LSTM\n",
    "from keras.layers import Dropout"
   ]
  },
  {
   "cell_type": "code",
   "execution_count": 35,
   "metadata": {},
   "outputs": [
    {
     "name": "stdout",
     "output_type": "stream",
     "text": [
      "_________________________________________________________________\n",
      "Layer (type)                 Output Shape              Param #   \n",
      "=================================================================\n",
      "lstm_2 (LSTM)                (None, 3)                 120       \n",
      "_________________________________________________________________\n",
      "dropout_2 (Dropout)          (None, 3)                 0         \n",
      "_________________________________________________________________\n",
      "dense_2 (Dense)              (None, 7)                 28        \n",
      "=================================================================\n",
      "Total params: 148\n",
      "Trainable params: 148\n",
      "Non-trainable params: 0\n",
      "_________________________________________________________________\n"
     ]
    }
   ],
   "source": [
    "classifier = Sequential()\n",
    "# Adding the first LSTM layer and some Dropout regularisation\n",
    "classifier.add(LSTM(units = 3, input_shape = (X_train.shape[1], 6)))\n",
    "classifier.add(Dropout(0.2))\n",
    "# Adding the output layer with a softmax activation function for multi classification\n",
    "classifier.add(Dense(7, activation='softmax'))\n",
    "# Compiling the RNN\n",
    "classifier.compile(optimizer='rmsprop', loss='sparse_categorical_crossentropy', metrics=['accuracy'])\n",
    "classifier.summary()"
   ]
  },
  {
   "cell_type": "markdown",
   "metadata": {},
   "source": [
    "## Softmax function\n",
    "A softmax function, is a generalization of the logistic function that \"squashes\" a $K$-dimensional vector $\\displaystyle \\mathbf {z}$  of arbitrary real values to a $K$-dimensional vector $\\sigma (\\mathbf {z} )$ of real values, where each entry is in the range (0, 1], and all the entries add up to 1. Note that the target is a ($K$-1)-dimensional space: one dimension has been lost."
   ]
  },
  {
   "cell_type": "markdown",
   "metadata": {},
   "source": [
    "Now we train the model:"
   ]
  },
  {
   "cell_type": "code",
   "execution_count": 36,
   "metadata": {},
   "outputs": [
    {
     "name": "stdout",
     "output_type": "stream",
     "text": [
      "Epoch 1/5\n",
      "168894/168894 [==============================] - 22s 128us/step - loss: 0.8904 - acc: 0.7323\n",
      "Epoch 2/5\n",
      "168894/168894 [==============================] - 17s 102us/step - loss: 0.7669 - acc: 0.7628\n",
      "Epoch 3/5\n",
      "168894/168894 [==============================] - 17s 99us/step - loss: 0.7574 - acc: 0.7768\n",
      "Epoch 4/5\n",
      "168894/168894 [==============================] - 17s 99us/step - loss: 0.7535 - acc: 0.7783\n",
      "Epoch 5/5\n",
      "168894/168894 [==============================] - 17s 100us/step - loss: 0.7492 - acc: 0.7788\n"
     ]
    },
    {
     "data": {
      "text/plain": [
       "<keras.callbacks.History at 0x24ba2cac198>"
      ]
     },
     "execution_count": 36,
     "metadata": {},
     "output_type": "execute_result"
    }
   ],
   "source": [
    "classifier.fit(X_train, y_train, epochs = 5, batch_size=32)"
   ]
  },
  {
   "cell_type": "markdown",
   "metadata": {},
   "source": [
    "Here we save the model:"
   ]
  },
  {
   "cell_type": "code",
   "execution_count": 38,
   "metadata": {},
   "outputs": [],
   "source": [
    "from keras.models import load_model\n",
    "classifier.save('classifier.h5')  # creates a HDF5 file \n",
    "del classifier  # deletes the existing model"
   ]
  },
  {
   "cell_type": "markdown",
   "metadata": {},
   "source": [
    "load the model"
   ]
  },
  {
   "cell_type": "code",
   "execution_count": 40,
   "metadata": {},
   "outputs": [],
   "source": [
    "classifier = load_model('classifier.h5')"
   ]
  },
  {
   "cell_type": "markdown",
   "metadata": {},
   "source": [
    "Here, we make a prediction with the test set (i.e. remaining 20% data):"
   ]
  },
  {
   "cell_type": "code",
   "execution_count": 41,
   "metadata": {},
   "outputs": [],
   "source": [
    "predicted_test = classifier.predict(X_test)"
   ]
  },
  {
   "cell_type": "markdown",
   "metadata": {},
   "source": [
    "Note that the variable 'predicted_test' contains an 2-d array, where the columns in the array represents the classes and the rows represents the probability of occurance of a particular class. Our job here is to identify the classes with the highest probability as the class predicted by the model. To achieve that, we create a function that returns the class with the highest probability:   "
   ]
  },
  {
   "cell_type": "code",
   "execution_count": 17,
   "metadata": {},
   "outputs": [],
   "source": [
    "def compute_class_index(predicted_test):\n",
    "    output_list = []\n",
    "    for i in range(predicted_test.shape[0]):\n",
    "        max_prediction_index = np.argmax(predicted_test[i, :])\n",
    "        output_list.append(max_prediction_index)\n",
    "    return output_list\n",
    "index = compute_class_index(predicted_test)"
   ]
  },
  {
   "cell_type": "markdown",
   "metadata": {},
   "source": [
    "Here we plot the first 500 predictions from the model:"
   ]
  },
  {
   "cell_type": "code",
   "execution_count": 18,
   "metadata": {},
   "outputs": [
    {
     "data": {
      "text/plain": [
       "(0, 6)"
      ]
     },
     "execution_count": 18,
     "metadata": {},
     "output_type": "execute_result"
    },
    {
     "data": {
      "image/png": "[encoded data removed]",
      "text/plain": [
       "<Figure size 432x288 with 1 Axes>"
      ]
     },
     "metadata": {},
     "output_type": "display_data"
    }
   ],
   "source": [
    "sample_index = list(range(1, predicted_test.shape[0]+1))\n",
    "f1 = plt.figure()\n",
    "plt.scatter(sample_index[0:99], index[0:99], color = 'red', label = 'Model Pediction')\n",
    "plt.scatter(sample_index[0:99], y_test[0:99], color = 'blue', label = 'Target')\n",
    "plt.xlabel('Nsamples')\n",
    "plt.ylabel('Class')\n",
    "plt.legend()\n",
    "axes = f1.gca()\n",
    "axes.set_ylim([0, 6])"
   ]
  },
  {
   "cell_type": "code",
   "execution_count": 19,
   "metadata": {},
   "outputs": [
    {
     "data": {
      "text/plain": [
       "(0, 6)"
      ]
     },
     "execution_count": 19,
     "metadata": {},
     "output_type": "execute_result"
    },
    {
     "data": {
      "image/png": "[encoded data removed]",
      "text/plain": [
       "<Figure size 432x288 with 1 Axes>"
      ]
     },
     "metadata": {},
     "output_type": "display_data"
    }
   ],
   "source": [
    "f2 = plt.figure()\n",
    "plt.scatter(sample_index[100:199], index[100:199], color = 'red', label = 'Model Pediction')\n",
    "plt.scatter(sample_index[100:199], y_test[100:199], color = 'blue', label = 'Taret')\n",
    "plt.xlabel('Nsamples')\n",
    "plt.ylabel('Class')\n",
    "plt.legend()\n",
    "axes = f2.gca()\n",
    "axes.set_ylim([0, 6])"
   ]
  },
  {
   "cell_type": "code",
   "execution_count": 20,
   "metadata": {},
   "outputs": [
    {
     "data": {
      "text/plain": [
       "(0, 6)"
      ]
     },
     "execution_count": 20,
     "metadata": {},
     "output_type": "execute_result"
    },
    {
     "data": {
      "image/png": "[encoded data removed]",
      "text/plain": [
       "<Figure size 432x288 with 1 Axes>"
      ]
     },
     "metadata": {},
     "output_type": "display_data"
    }
   ],
   "source": [
    "f3 = plt.figure()\n",
    "plt.scatter(sample_index[200:299], index[200:299], color = 'red', label = 'Model Pediction')\n",
    "plt.scatter(sample_index[200:299], y_test[200:299], color = 'blue', label = 'Taret')\n",
    "plt.xlabel('Nsamples')\n",
    "plt.ylabel('Class')\n",
    "plt.legend()\n",
    "axes = f3.gca()\n",
    "axes.set_ylim([0, 6])"
   ]
  },
  {
   "cell_type": "code",
   "execution_count": 21,
   "metadata": {},
   "outputs": [
    {
     "data": {
      "text/plain": [
       "(0, 6)"
      ]
     },
     "execution_count": 21,
     "metadata": {},
     "output_type": "execute_result"
    },
    {
     "data": {
      "image/png": "[encoded data removed]",
      "text/plain": [
       "<Figure size 432x288 with 1 Axes>"
      ]
     },
     "metadata": {},
     "output_type": "display_data"
    }
   ],
   "source": [
    "f4 = plt.figure()\n",
    "plt.scatter(sample_index[300:399], index[300:399], color = 'red', label = 'Model Pediction')\n",
    "plt.scatter(sample_index[300:399], y_test[300:399], color = 'blue', label = 'Taret')\n",
    "plt.xlabel('Nsamples')\n",
    "plt.ylabel('Class')\n",
    "plt.legend()\n",
    "axes = f4.gca()\n",
    "axes.set_ylim([0, 6])"
   ]
  },
  {
   "cell_type": "code",
   "execution_count": 22,
   "metadata": {},
   "outputs": [
    {
     "data": {
      "text/plain": [
       "(0, 6)"
      ]
     },
     "execution_count": 22,
     "metadata": {},
     "output_type": "execute_result"
    },
    {
     "data": {
      "image/png": "[encoded data removed]",
      "text/plain": [
       "<Figure size 432x288 with 1 Axes>"
      ]
     },
     "metadata": {},
     "output_type": "display_data"
    }
   ],
   "source": [
    "f5 = plt.figure()\n",
    "plt.scatter(sample_index[400:499], index[400:499], color = 'red', label = 'Model Pediction')\n",
    "plt.scatter(sample_index[400:499], y_test[400:499], color = 'blue', label = 'Taret')\n",
    "plt.xlabel('Nsamples')\n",
    "plt.ylabel('Class')\n",
    "plt.legend()\n",
    "axes = f5.gca()\n",
    "axes.set_ylim([0, 6])"
   ]
  },
  {
   "cell_type": "markdown",
   "metadata": {},
   "source": [
    "The model seems to be doing ok for the first 500 test sample. Now let's compute the reliability of the model (i.e. the number of times the predicted value matches the target). Here, I create a function that computes the model reliability: "
   ]
  },
  {
   "cell_type": "code",
   "execution_count": 23,
   "metadata": {},
   "outputs": [],
   "source": [
    "def compute_model_reliability(index, y_test):\n",
    "    out_list = []\n",
    "    for z in range(predicted_test.shape[0]):\n",
    "        if index[z] == int(y_test[z]):\n",
    "            indicator = 1\n",
    "        else:\n",
    "            indicator = 0\n",
    "        out_list.append(indicator)\n",
    "    model_reliability = np.sum(out_list)/len(out_list)\n",
    "    return model_reliability"
   ]
  },
  {
   "cell_type": "code",
   "execution_count": 24,
   "metadata": {},
   "outputs": [
    {
     "name": "stdout",
     "output_type": "stream",
     "text": [
      "0.8698514957011914\n"
     ]
    }
   ],
   "source": [
    "model_reliability = compute_model_reliability(index, y_test)\n",
    "print(model_reliability)"
   ]
  },
  {
   "cell_type": "markdown",
   "metadata": {},
   "source": [
    "88% model reliability is actually very good."
   ]
  },
  {
   "cell_type": "markdown",
   "metadata": {},
   "source": [
    "Now, let's check the perfromance of the model on the training set"
   ]
  },
  {
   "cell_type": "code",
   "execution_count": 25,
   "metadata": {},
   "outputs": [],
   "source": [
    "predicted_train = classifier.predict(X_train)"
   ]
  },
  {
   "cell_type": "code",
   "execution_count": 26,
   "metadata": {},
   "outputs": [],
   "source": [
    "index_train = compute_class_index(predicted_train)"
   ]
  },
  {
   "cell_type": "code",
   "execution_count": 27,
   "metadata": {},
   "outputs": [
    {
     "name": "stdout",
     "output_type": "stream",
     "text": [
      "0.8072523151985979\n"
     ]
    }
   ],
   "source": [
    "model_reliability_train = compute_model_reliability(index_train, y_train)\n",
    "print(model_reliability_train)"
   ]
  },
  {
   "cell_type": "markdown",
   "metadata": {},
   "source": [
    "# Conclusion\n",
    "In summary, a time series model that predicts the queue times of jobs submitted on the Epic cluster has been constructed based on two years data provided by Zenotech. The model constructed consist of one LSTM layer which takes into account the time dependency in the training data. The results...    "
   ]
  },
  {
   "cell_type": "code",
   "execution_count": null,
   "metadata": {},
   "outputs": [],
   "source": []
  }
 ],
 "metadata": {
  "kernelspec": {
   "display_name": "Python 3",
   "language": "python",
   "name": "python3"
  },
  "language_info": {
   "codemirror_mode": {
    "name": "ipython",
    "version": 3
   },
   "file_extension": ".py",
   "mimetype": "text/x-python",
   "name": "python",
   "nbconvert_exporter": "python",
   "pygments_lexer": "ipython3",
   "version": "3.6.5"
  }
 },
 "nbformat": 4,
 "nbformat_minor": 2
}
